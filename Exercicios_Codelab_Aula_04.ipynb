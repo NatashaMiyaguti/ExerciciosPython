{
  "nbformat": 4,
  "nbformat_minor": 0,
  "metadata": {
    "colab": {
      "name": "Exercicios_Codelab_Aula_04.ipynb",
      "provenance": [],
      "collapsed_sections": [],
      "include_colab_link": true
    },
    "kernelspec": {
      "name": "python3",
      "display_name": "Python 3"
    },
    "language_info": {
      "name": "python"
    }
  },
  "cells": [
    {
      "cell_type": "markdown",
      "metadata": {
        "id": "view-in-github",
        "colab_type": "text"
      },
      "source": [
        "<a href=\"https://colab.research.google.com/github/NatashaMiyaguti/ExerciciosPython/blob/main/Exercicios_Codelab_Aula_04.ipynb\" target=\"_parent\"><img src=\"https://colab.research.google.com/assets/colab-badge.svg\" alt=\"Open In Colab\"/></a>"
      ]
    },
    {
      "cell_type": "markdown",
      "metadata": {
        "id": "SW-cnnj3AAlE"
      },
      "source": [
        "## Exercício 01\n",
        "\n",
        "Faça um programa que pergunte ao usuário um número e valide se o numero é par ou impar:\n",
        "\n",
        "* Crie uma variável para receber o valor, com conversão para int\n",
        "* Para um número ser par, a divisão dele por 2 tem que dar resto 0"
      ]
    },
    {
      "cell_type": "code",
      "metadata": {
        "id": "ZeuCDPZQFT9T"
      },
      "source": [
        "numero= int(input('Digite um numero: '))\n",
        "if numero %2 == 0:\n",
        "  print ('Seu numero é par')\n",
        "else:\n",
        "  print ('Seu numero não é par, é impar')"
      ],
      "execution_count": null,
      "outputs": []
    },
    {
      "cell_type": "markdown",
      "metadata": {
        "id": "jXVUBuN3DcU-"
      },
      "source": [
        "## Exercício 02\n",
        "\n",
        "> Parte 1\n",
        "\n",
        "Faça um script que peça um valor e mostre na tela se o valor é positivo ou negativo.\n",
        "\n",
        "> Parte 2\n",
        "\n",
        "Agora implemente a funcionalidade de não aceitar o número 0, no input. (esse vai além do explicado até agora)"
      ]
    },
    {
      "cell_type": "code",
      "metadata": {
        "id": "bsM4V6SeHwJr"
      },
      "source": [
        "numero= int(input('Digite um valor: '))\n",
        "if numero == 0:\n",
        "  print('Numero neutro')\n",
        "else:\n",
        "  if numero> 0 :\n",
        "   print('Numero positivo')\n",
        "  else:\n",
        "   print('Numero negativo')\n"
      ],
      "execution_count": null,
      "outputs": []
    },
    {
      "cell_type": "markdown",
      "metadata": {
        "id": "90mUizLXOKd3"
      },
      "source": [
        "## Exercício 03\n",
        "\n",
        "Faça um programa que peça dois números, imprima o maior deles ou imprima \"Numeros iguais\" se os números forem iguais."
      ]
    },
    {
      "cell_type": "code",
      "metadata": {
        "id": "7yXB2kfUVYuD"
      },
      "source": [
        "numero1= int(input('Digite o primeiro numero: '))\n",
        "numero2= int(input('Digite o segundo numero: '))\n",
        "if numero1 > numero2:\n",
        "   print (f' O numero maior é {numero1}')\n",
        "elif numero1 < numero2:\n",
        "   print (f' O numero maior é {numero2}')\n",
        "elif numero1 ==numero2:\n",
        "   print ('Numeros iguais')\n",
        "  "
      ],
      "execution_count": null,
      "outputs": []
    },
    {
      "cell_type": "markdown",
      "metadata": {
        "id": "9BATv7tsOWOI"
      },
      "source": [
        "## Exercício 04\n",
        "\n",
        "Crie um programa que verifique se uma letra digitada é \"F\" ou \"M\". Conforme a letra, escrever: F - Feminino, M - Masculino, caso escreva outra letra: Sexo Biológico Inválido."
      ]
    },
    {
      "cell_type": "code",
      "metadata": {
        "id": "pRm8kyI7Wnp4"
      },
      "source": [
        "sexo= input('Digite seu sexo?[F/M]:').strip().upper()[0]\n",
        " \n",
        "if sexo == 'F':\n",
        " print ('Feminino')\n",
        "elif sexo == 'M':\n",
        "  print ('Masculino')\n",
        "else:\n",
        "  print('Sexo Biológico Inválido')"
      ],
      "execution_count": null,
      "outputs": []
    },
    {
      "cell_type": "markdown",
      "metadata": {
        "id": "WX2j2ITtY3G5"
      },
      "source": [
        "### Exercício 05\n",
        "\n",
        "Crie um programa em Python que peça a nota do aluno, que deve ser um float entre 0.00 e 10.0\n",
        "\n",
        "* Se a nota for menor que 6.0, deve exibir a nota F.\n",
        "\n",
        "* Se a nota for de 6.0 até 7.0, deve exibir a nota D.\n",
        "\n",
        "* Se a nota for entre 7.0 e 8.0, deve exibir a nota C.\n",
        "\n",
        "* Se a nota for entre 8.0 e 9.0, deve exibir a nota B.\n",
        "\n",
        "* Por fim, se for entre 9.0 e 10.0, deve exibir um belo de um A."
      ]
    },
    {
      "cell_type": "code",
      "metadata": {
        "id": "4CjqLlFWY5Z-",
        "colab": {
          "base_uri": "https://localhost:8080/"
        },
        "outputId": "e563e0d9-8546-4534-9166-b0bbcd6bb791"
      },
      "source": [
        "nota= float(input('Digite a nota '))\n",
        "if nota < 6:\n",
        "  print ('F')\n",
        "elif nota == 6  or nota < 7:\n",
        "  print ('D')\n",
        "elif nota == 7 or nota < 8:\n",
        "  print ('C')\n",
        "elif nota == 8 or nota < 9:\n",
        "  print ('B')\n",
        "elif nota == 9 or nota <= 10:\n",
        "  print ('A')"
      ],
      "execution_count": null,
      "outputs": [
        {
          "output_type": "stream",
          "text": [
            "Digite a nota 9\n",
            "B\n"
          ],
          "name": "stdout"
        }
      ]
    },
    {
      "cell_type": "markdown",
      "metadata": {
        "id": "xep4W_T-s-Ra"
      },
      "source": [
        "# *Mini Projetos*"
      ]
    },
    {
      "cell_type": "markdown",
      "metadata": {
        "id": "4YbMlSEZG7UM"
      },
      "source": [
        "## **PROJETO 01**\n",
        "\n",
        "*   Escreva um programa que receba uma string digitada pelo usuário;\n",
        "*   Caso a string seja \"medieval\", exiba no console \"espada\";\n",
        "*   Caso contrário, se a string for \"futurista\", exiba no console \"sabre de luz\";\n",
        "*   Caso contrário, exiba no console \"Tente novamente\""
      ]
    },
    {
      "cell_type": "code",
      "metadata": {
        "id": "tn9QH5pVG8Rq",
        "colab": {
          "base_uri": "https://localhost:8080/"
        },
        "outputId": "7ac933cb-560b-40be-82a3-98e720fa1a75"
      },
      "source": [
        "jogo= input(' Escolha entre \"Medieval\" ou \"Futurista\"').lower().strip()\n",
        "if jogo == 'medieval':\n",
        "  print ('\"espada\"')\n",
        "elif jogo ==  'futurista':\n",
        "  print ('sabre de luz')\n",
        "else:\n",
        "  print('Tente novamente')"
      ],
      "execution_count": null,
      "outputs": [
        {
          "output_type": "stream",
          "text": [
            " Escolha entre \"Medieval\" ou \"Futurista\"medieval\n",
            "\"espada\"\n"
          ],
          "name": "stdout"
        }
      ]
    },
    {
      "cell_type": "code",
      "metadata": {
        "id": "xQYgbr8VnUYV"
      },
      "source": [
        ""
      ],
      "execution_count": null,
      "outputs": []
    },
    {
      "cell_type": "markdown",
      "metadata": {
        "id": "zUGk1OiNHDik"
      },
      "source": [
        "## **PROJETO 02**\n",
        "\n",
        "* Escreva um programa que receba um ataque de espada ou sabre digitada pelo usuário;\n",
        "\n",
        "* Caso o ataque seja \"espada\", exiba no console \"VOCÊ AINDA NÃO MATOU O CHEFÃO\";\n",
        "\n",
        "* Caso contrário, se o ataque for \"sabre\", exiba no console \"VOCÊ DERROTOU O CHEFÃO COM O SABRE DE LUZ\";\n",
        "\n",
        "* Caso contrário, exiba no console \"ATAQUE NOVAMENTE\""
      ]
    },
    {
      "cell_type": "code",
      "metadata": {
        "id": "eNZokIIOHHkp",
        "colab": {
          "base_uri": "https://localhost:8080/"
        },
        "outputId": "7d78996f-7d89-442d-a83e-f0da91b86774"
      },
      "source": [
        "ataque= input(' Escolha o ataque de \"Espada\" ou \"Sabre\"').lower().strip()\n",
        "if ataque == 'espada':\n",
        "  print ('\"VOCÊ AINDA NÃO MATOU O LEÃO\"')\n",
        "elif ataque ==  'sabre':\n",
        "  print ('\"VOCÊ DERROTOU O CHEFÃO COM O SABRE DE LUZ')\n",
        "else:\n",
        "  print('TENTE NOVAMENTE')"
      ],
      "execution_count": null,
      "outputs": [
        {
          "output_type": "stream",
          "text": [
            " Escolha o ataque de \"Espada\" ou \"Sabre\"SABRE\n",
            "\"VOCÊ DERROTOU O CHEFÃO COM O SABRE DE LUZ\n"
          ],
          "name": "stdout"
        }
      ]
    },
    {
      "cell_type": "markdown",
      "metadata": {
        "id": "NRhLAMa6ZfqU"
      },
      "source": [
        "## **DESAFIO 01**\n",
        "\n",
        "**Reajuste salarial**\n",
        "\n",
        "As empresas @.com resolveram dar um aumento de salário aos seus colaboradores e lhe contrataram para desenvolver o programa que calculará os reajustes.\n",
        "\n",
        "Faça um programa que recebe o salário de um colaborador e o reajuste segundo o seguinte critério, baseado no salário atual:\n",
        "* salários até R$ 280,00 (incluindo) : aumento de 20%\n",
        "\n",
        "* salários entre R\\$ 280,00 e R$ 700,00 : aumento de 15%\n",
        "\n",
        "* salários entre R\\$ 700,00 e R$ 1500,00 : aumento de 10%\n",
        "\n",
        "* salários de R$ 1500,00 em diante : aumento de 5% \n",
        "\n",
        "Após o aumento ser realizado, informe na tela:\n",
        "* o salário antes do reajuste;\n",
        "\n",
        "* o percentual de aumento aplicado;\n",
        "\n",
        "* o valor do aumento;\n",
        "\n",
        "* o novo salário, após o aumento.\""
      ]
    },
    {
      "cell_type": "code",
      "metadata": {
        "id": "VpC5oZINZXzt",
        "colab": {
          "base_uri": "https://localhost:8080/"
        },
        "outputId": "83f9f3a5-8875-448f-a4cb-b44f154e0d19"
      },
      "source": [
        "salario= float(input('Digite o valor do sálario: '))\n",
        "aumento= 0\n",
        "\n",
        "if salario <= 280:\n",
        "  aumento= 20\n",
        "\n",
        "elif salario > 280 or salario <= 700:\n",
        "  aumento= 15\n",
        "\n",
        "elif salario >700 or salario <= 1500:\n",
        "  aumento= 10\n",
        "\n",
        "else:\n",
        "  aumento = 5\n",
        "\n",
        "aumento_porcentagem= aumento/100\n",
        "valor_aumento = salario* aumento_porcentagem\n",
        "novo_salario= valor_aumento + salario\n",
        "\n",
        "print(f\"\"\"o salário antes do reajuste: R${salario:.2f};\n",
        "\n",
        "o percentual de aumento aplicado: {aumento}%;\n",
        "\n",
        "o valor do aumento: R${valor_aumento:.2f}\n",
        "\n",
        "o novo salário, após o aumento: R${novo_salario:.2f}\"\"\")\n"
      ],
      "execution_count": null,
      "outputs": [
        {
          "output_type": "stream",
          "text": [
            "Digite o valor do sálario: 300\n",
            "o salário antes do reajuste: R$300.00;\n",
            "\n",
            "o percentual de aumento aplicado: 15%;\n",
            "\n",
            "o valor do aumento: R$45.00\n",
            "\n",
            "o novo salário, após o aumento: R$345.00\n"
          ],
          "name": "stdout"
        }
      ]
    },
    {
      "cell_type": "markdown",
      "metadata": {
        "id": "HvThpbU4aBGy"
      },
      "source": [
        "## **DESAFIO 02**\n",
        "\n",
        "**Jogo da adivinhação**\n",
        "\n",
        "Escreva um programa que faça o computador “pensar” em um número inteiro entre 0 e 10 e peça para o usuário tentar descobrir qual foi o número escolhido pelo computador. O programa deverá escrever na tela se o usuário venceu ou perdeu."
      ]
    },
    {
      "cell_type": "code",
      "metadata": {
        "id": "TVeHZbyQZIzO",
        "colab": {
          "base_uri": "https://localhost:8080/"
        },
        "outputId": "f3da2138-5643-4a4e-c6a1-7b8418200f5f"
      },
      "source": [
        "import random\n",
        "random.randint(0,10)\n",
        "numero= int(input('Digite um numro inteiro entre 0 e 10 : '))\n",
        "\n",
        "if random.randint == numero:\n",
        "  print ('Você venceu')\n",
        "\n",
        "else:\n",
        "  print ('Você perdeu')"
      ],
      "execution_count": null,
      "outputs": [
        {
          "output_type": "stream",
          "text": [
            "Digiteum numro inteiro entre o e 10 : 6\n",
            "Você perdeu\n"
          ],
          "name": "stdout"
        }
      ]
    },
    {
      "cell_type": "markdown",
      "metadata": {
        "id": "mjLFAUooaOH1"
      },
      "source": [
        "## **Desafio 03**\n",
        "\n",
        "**Caixa eletrônico**\n",
        "\n",
        "Faça um Programa para um caixa eletrônico. O programa deverá perguntar ao usuário a valor do saque e depois informar quantas notas de cada valor serão fornecidas. As notas disponíveis serão as de 1, 5, 10, 50 e 100 reais. O valor mínimo é de 10 reais e o máximo de 600 reais. O programa não deve se preocupar com a quantidade de notas existentes na máquina.\n",
        "\n",
        "* Exemplo 1: Para sacar a quantia de 256 reais, o programa fornece duas notas de 100, uma nota de 50, uma nota de 5 e uma nota de 1;\n",
        "\n",
        "* Exemplo 2: Para sacar a quantia de 399 reais, o programa fornece três notas de 100, uma nota de 50, quatro notas de 10, uma nota de 5 e quatro notas de 1.\n",
        "\n"
      ]
    },
    {
      "cell_type": "code",
      "metadata": {
        "id": "sH65bTx-ZMLh",
        "colab": {
          "base_uri": "https://localhost:8080/"
        },
        "outputId": "4939e482-5caf-4542-b86d-523969d21012"
      },
      "source": [
        "valor_saque= float(input('Qual o valor deseja sacar:  '))\n",
        "\n",
        "if valor_saque < 10  or valor_saque >600:\n",
        "  print ('Esse valor é inferior ou superior para saque')\n",
        "\n",
        "else:\n",
        "  valor_saque <=600\n",
        "  nota100 = valor_saque //  100\n",
        "  resto100 = valor_saque % 100\n",
        "  nota50 = resto100 // 50\n",
        "  resto50 = resto100 % 50\n",
        "  nota10 = resto50 // 10\n",
        "  resto10 = resto50 % 10\n",
        "  nota5 = resto10 // 5\n",
        "  resto5 = resto10 % 5\n",
        "\n",
        "  print (f'O valor do saque {valor_saque}\\nA quantidade de nota de R$100 é {nota100}\\nA quantidade de nota de R$50 é {nota50}\\nA quantidade de nota de R$10 é {nota10}\\nA quantidade de nota de R$5 é {nota5}\\nA quantidade de nota de R$1 é {resto5}')\n",
        "\n",
        "\n",
        "\n"
      ],
      "execution_count": null,
      "outputs": [
        {
          "output_type": "stream",
          "text": [
            "Qual o valor deseja sacar:  456\n",
            "O valor do saque 456\n",
            "A quantidade de nota de R$100 é 4\n",
            "A quantidade de nota de R$50 é 1\n",
            "A quantidade de nota de R$10 é 0\n",
            "A quantidade de nota de R$5 é 1\n",
            "A quantidade de nota de R$1 é 1\n"
          ],
          "name": "stdout"
        }
      ]
    }
  ]
}