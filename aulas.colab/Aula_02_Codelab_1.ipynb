{
  "nbformat": 4,
  "nbformat_minor": 0,
  "metadata": {
    "colab": {
      "name": "Aula_02_Codelab_1.ipynb",
      "provenance": [],
      "collapsed_sections": [],
      "include_colab_link": true
    },
    "kernelspec": {
      "name": "python3",
      "display_name": "Python 3"
    },
    "language_info": {
      "name": "python"
    }
  },
  "cells": [
    {
      "cell_type": "markdown",
      "metadata": {
        "id": "view-in-github",
        "colab_type": "text"
      },
      "source": [
        "<a href=\"https://colab.research.google.com/github/NatashaMiyaguti/ExerciciosPython/blob/main/Aula_02_Codelab_1.ipynb\" target=\"_parent\"><img src=\"https://colab.research.google.com/assets/colab-badge.svg\" alt=\"Open In Colab\"/></a>"
      ]
    },
    {
      "cell_type": "markdown",
      "metadata": {
        "id": "n_igYcmdk6U9"
      },
      "source": [
        "# **Exercícios para treinar:**"
      ]
    },
    {
      "cell_type": "markdown",
      "metadata": {
        "id": "rRyZR6ZAlEHU"
      },
      "source": [
        "1. **Frase na tela** - Implemente um programa que escreve na tela a frase \"O primeiro programa a gente nunca esquece!\".\n",
        "\n",
        "2. **Etiqueta** - Elabore um programa que escreve seu nome completo na primeira linha, seu endereço na segunda e o CEP e telefone na terceira.\n",
        "\n",
        "3. **Letra de música** - Faça um programa que mostre na tela uma letra de música que você gosta (proibido letras do Justin Bieber).\n",
        "\n",
        "4. **Tabela de notas** - Você foi contratado ou contratada por uma escola pra fazer o sistema de boletim dos alunos. Como primeiro passo, escreva um programa que produza a seguinte saída:\n",
        "```\n",
        "ALUNO (A)  NOTA\n",
        "=========  ====\n",
        "ALINE      9.0\n",
        "MÁRIO      DEZ\n",
        "SÉRGIO     4.5\n",
        "SHIRLEY    7.0\n",
        "```\n",
        "\n",
        "5. **Menu** - Elabore um programa que mostre o seguinte menu na tela:\n",
        "```\n",
        "Cadastro de Clientes\n",
        "0 - Fim\n",
        "1 - Inclui\n",
        "2 - Altera\n",
        "3 - Exclui\n",
        "4 - Consulta\n",
        "Digite uma opção: \n",
        "```\n",
        "Ao digitar um valor para a opção, o programa exibe qual opção foi escolhida.\n",
        "```\n",
        "Você escolheu a opção '0'.\n",
        "```\n",
        "\n",
        "6. **Calculadora de Dano** - Escreva um programa que receba dois valores digitados pelo usuário:\n",
        "  - Quantidade de vida de um monstro (entre 10 e 50);\n",
        "  - Valor do ataque do jogador por turno (entre 5 e 10);\n",
        "  - Baseado nos valores digitados, exiba a quantidade de turnos que o jogador irá demorar para conseguir derrotar o monstro.\n",
        "  - ```\n",
        "    O jogador irá derrotar o monstro em 8 turnos.\n",
        "    ```"
      ]
    },
    {
      "cell_type": "code",
      "metadata": {
        "id": "1dqN8OyH8UHD"
      },
      "source": [
        "print(\"O primeiro programa a gente nunca esquece\")\n"
      ],
      "execution_count": null,
      "outputs": []
    },
    {
      "cell_type": "code",
      "metadata": {
        "id": "lLesThHD87tc"
      },
      "source": [
        "nome= input(\"Digite seu nome completo\")\n",
        "endereco= input (\"Digite seu endereco\")\n",
        "cep= int(input (\"Digite seu cep\"))\n",
        "telefone= input (\"Digite seu telefone\")\n",
        "\n",
        "print (f' Nome: {nome}\\nEndereco: {endereco}\\nCep{cep}\\nTelefone{telefone}')\n",
        "\n"
      ],
      "execution_count": null,
      "outputs": []
    },
    {
      "cell_type": "code",
      "metadata": {
        "colab": {
          "base_uri": "https://localhost:8080/"
        },
        "id": "baZGNfx5Bbu4",
        "outputId": "d2828c2b-917d-4a63-b848-2bb2919be260"
      },
      "source": [
        "musica1= ('Nessa cidade tem uma rua')\n",
        "musica2= ('Que eu não ouso mais passar')\n",
        "musica3= ('Nessa cidade tem uma rosa')\n",
        "musica4= ('De pálida agonia a me esperar')\n",
        "\n",
        "print (f'{musica1}\\n{musica2}\\n{musica3}\\n{musica4}')"
      ],
      "execution_count": null,
      "outputs": [
        {
          "output_type": "stream",
          "text": [
            "Nessa cidade tem uma rua\n",
            "Que eu não ouso mais passar\n",
            "Nessa cidade tem uma rosa\n",
            "De pálida agonia a me esperar\n"
          ],
          "name": "stdout"
        }
      ]
    },
    {
      "cell_type": "code",
      "metadata": {
        "colab": {
          "base_uri": "https://localhost:8080/"
        },
        "id": "jYmZVq8sC5oX",
        "outputId": "148f6b46-605a-48a0-9403-d534b607bcb1"
      },
      "source": [
        "print (f'ALUNO (A)  NOTA\\n=========   ====\\nALINE       9.0\\nMÁRIO       DEZ\\nSÉRGIO      4.5\\nSHIRLEY     7.0')"
      ],
      "execution_count": null,
      "outputs": [
        {
          "output_type": "stream",
          "text": [
            "ALUNO (A)  NOTA\n",
            "=========   ====\n",
            "ALINE       9.0\n",
            "MÁRIO       DEZ\n",
            "SÉRGIO      4.5\n",
            "SHIRLEY     7.0\n"
          ],
          "name": "stdout"
        }
      ]
    },
    {
      "cell_type": "code",
      "metadata": {
        "colab": {
          "base_uri": "https://localhost:8080/"
        },
        "id": "nTDp3fXzEuNT",
        "outputId": "24ab8e39-6de3-4a8e-9018-9e41440de965"
      },
      "source": [
        "print (f'Cadastro de Clientes\\n\\n0 - Fim\\n1 - Inclui\\n2 - Altera\\n3 - Exclui\\n4 - Consulta')\n",
        "valor = int(input(\"Digite uma opção:\"))\n",
        "print(f'Você escolheu a opção:\"{valor}\"')"
      ],
      "execution_count": null,
      "outputs": [
        {
          "output_type": "stream",
          "text": [
            "Cadastro de Clientes\n",
            "\n",
            "0 - Fim\n",
            "1 - Inclui\n",
            "2 - Altera\n",
            "3 - Exclui\n",
            "4 - Consulta\n",
            "Digite uma opção:7\n",
            "Você escolheu a opção:\"7\"\n"
          ],
          "name": "stdout"
        }
      ]
    },
    {
      "cell_type": "code",
      "metadata": {
        "colab": {
          "base_uri": "https://localhost:8080/"
        },
        "id": "LveSCns4HI6o",
        "outputId": "cbb00000-9460-4ad4-a68c-fb7dc4d99186"
      },
      "source": [
        "vida_monstro= int(input('Digite a quantidade de vida do monstro (entre 10 e 50)'))\n",
        "valor_ataque= int(input('Digite o valor de ataque do jogador por turno (entre 5 e 10)'))\n",
        "turnos= int(vida_monstro/valor_ataque)\n",
        "print(f'O jogador ira derrotar o monstro em {turnos} turnos')"
      ],
      "execution_count": null,
      "outputs": [
        {
          "output_type": "stream",
          "text": [
            "Digite a quantidade de vida do monstro (entre 10 e 50)50\n",
            "Digite o valor de ataque do jogador por turno (entre 5 e 10)3\n",
            "O jogador ira derrotar o monstro em 16 turnos\n"
          ],
          "name": "stdout"
        }
      ]
    },
    {
      "cell_type": "markdown",
      "metadata": {
        "id": "HqgnPaCGqMPB"
      },
      "source": [
        "# Exercícios"
      ]
    },
    {
      "cell_type": "markdown",
      "metadata": {
        "id": "U-ltrv0jqPBq"
      },
      "source": [
        "## #01 - E os 10% do garçom?**\n",
        "\n",
        "- Defina uma variável para o valor de uma refeição que custou R$ 42,54;\n",
        "\n",
        "- Defina uma variável para o valor da taxa de serviço que é de 10%;\n",
        "\n",
        "- Defina uma variável que calcula o valor total da conta e exiba-o no console com essa formatação: R$ XXXX.XX.\n"
      ]
    },
    {
      "cell_type": "code",
      "metadata": {
        "id": "jbcSv4NFkB1C",
        "colab": {
          "base_uri": "https://localhost:8080/"
        },
        "outputId": "e94766aa-6bd5-46cf-ea35-78dc9e1a48aa"
      },
      "source": [
        "refeicao= 42.54\n",
        "taxa= 10/100\n",
        "valor= (refeicao*taxa)+refeicao\n",
        "print (f'R${valor:.2f}')\n"
      ],
      "execution_count": null,
      "outputs": [
        {
          "output_type": "stream",
          "text": [
            "R$46.79\n"
          ],
          "name": "stdout"
        }
      ]
    },
    {
      "cell_type": "markdown",
      "metadata": {
        "id": "JR3-KgsTqR41"
      },
      "source": [
        "## #02 - Qual o valor do troco?\n",
        "\n",
        "*   Defina uma variável para o valor de uma compra que custou R$100,98;\n",
        "\n",
        "*   Defina uma variável para o valor que o cliente pagou R$150,00;\n",
        "\n",
        "*   Defina uma variável que calcula o valor do troco e exiba-o no console com o valor final arredondado."
      ]
    },
    {
      "cell_type": "code",
      "metadata": {
        "id": "hBf3kE_pksAI",
        "colab": {
          "base_uri": "https://localhost:8080/"
        },
        "outputId": "fb5b9aea-e44e-40da-df7b-5d35ffd695b9"
      },
      "source": [
        "compras= 100.98\n",
        "cliente= 150.00\n",
        "troco= int(cliente- compras)\n",
        "print (f'R${troco},00')"
      ],
      "execution_count": null,
      "outputs": [
        {
          "output_type": "stream",
          "text": [
            "R$49,00\n"
          ],
          "name": "stdout"
        }
      ]
    },
    {
      "cell_type": "markdown",
      "metadata": {
        "id": "2Uu84Uqtkunt"
      },
      "source": [
        "## #03 - Você está na flor da idade?\n",
        "\n",
        "*  Defina uma variável para o valor do ano do nascimento;\n",
        "*  Defina uma variável para o valor do ano atual;\n",
        "*  Defina uma variável que calcula o valor final da idade da pessoa;\n",
        "*  Exiba uma mensagem final dizendo a idade da pessoa e a mensagem \"Você está na flor da idade\"."
      ]
    },
    {
      "cell_type": "code",
      "metadata": {
        "id": "kyXxJV3nk14Z",
        "colab": {
          "base_uri": "https://localhost:8080/"
        },
        "outputId": "ab97a955-d5e9-4d54-d2cc-c2e6e7aa09f4"
      },
      "source": [
        "nascimento= 1988\n",
        "ano_atual =2021\n",
        "idade= ano_atual - nascimento\n",
        "print (f'Você tem {idade}. Você está na flor da idade')"
      ],
      "execution_count": null,
      "outputs": [
        {
          "output_type": "stream",
          "text": [
            "Você tem 33. Você está na flor da idade\n"
          ],
          "name": "stdout"
        }
      ]
    },
    {
      "cell_type": "markdown",
      "metadata": {
        "id": "w1T7s2q0p-pt"
      },
      "source": [
        "# Mini projetos"
      ]
    },
    {
      "cell_type": "markdown",
      "metadata": {
        "id": "meUw7PTwqC-Y"
      },
      "source": [
        "## #01 - Conversor de moedas\n",
        "\n",
        "Crie um programa que solicite um um valor em real ao usuário e converta esse valor, para:\n",
        "\n",
        "- DOLAR,\n",
        "- EURO,\n",
        "- LIBRA ESTERLINA,\n",
        "- DÓLAR CANADENSE,\n",
        "- PESO ARGENTINO,\n",
        "- PESO CHILENO.\n",
        "\n",
        "Para esse exercício você precisará realizar uma pesquisa para saber a cotação de cada moeda em real. Mostrar o resultado no formato $ XXXX.XX"
      ]
    },
    {
      "cell_type": "code",
      "metadata": {
        "id": "q481snSClrXe",
        "colab": {
          "base_uri": "https://localhost:8080/"
        },
        "outputId": "bdd15c92-ce90-4874-97de-de566b6fff1b"
      },
      "source": [
        "valor= float(input(\"Digite um valor em real\"))\n",
        "dolar= valor/ 5.04\n",
        "euro = valor/ 6.13\n",
        "libra = valor/ 7.13\n",
        "dcanada = valor/ 4.16\n",
        "pargentino = valor/ 0.053\n",
        "pchileno = valor / 0.0070\n",
        "\n",
        "print(f'Dólar ${dolar:.2f}\\nEuro ${euro:.2f}\\nLibra ${libra:.2f}\\nDcanada ${dcanada:.2f}\\nPargentino ${pargentino:.2f}\\nPchileno ${pchileno:.2f}')\n"
      ],
      "execution_count": null,
      "outputs": [
        {
          "output_type": "stream",
          "text": [
            "Digite um valor em real3\n",
            "Dólar $0.60\n",
            "Euro $0.49\n",
            "Libra $0.42\n",
            "Dcanada $0.72\n",
            "Pargentino $56.60\n",
            "Pchileno $428.57\n"
          ],
          "name": "stdout"
        }
      ]
    },
    {
      "cell_type": "markdown",
      "metadata": {
        "id": "KK9PIcJ4qIF9"
      },
      "source": [
        "## #02 - Calculadora de aumento de aluguel\n",
        "\n",
        "Vamos construir um programa que irá calcular o aumento anual do seu aluguel em duas partes:\n",
        "\n",
        "### Parte 1\n",
        "A sua calculadora vai receber o `valor do aluguel` e calcular o aumento baseado no `IGPM de 31%`. A calculadora deve apresentar o aluguel reajustado no formato `R$ XXXX.XX`\n",
        "\n",
        "**Exemplo:**\n",
        "```\n",
        "Valor do aluguel = 1000\n",
        "Valor do aluguel reajustado = R$ 1310,00"
      ]
    },
    {
      "cell_type": "code",
      "metadata": {
        "id": "VdjHa9Csl0Lg",
        "colab": {
          "base_uri": "https://localhost:8080/"
        },
        "outputId": "bbad03d6-8afe-4fdd-9da1-8b1f0a9c4af3"
      },
      "source": [
        "aluguel= float(input(\"Digite o valor do aluguel\"))\n",
        "igpm= 31/100\n",
        "aluguel_atualizado= (aluguel*igpm)+aluguel\n",
        "print(f'Valor do aluguel {aluguel:.2f} Valor do aluguel reajustado = R${aluguel_atualizado:.2f}')\n"
      ],
      "execution_count": null,
      "outputs": [
        {
          "output_type": "stream",
          "text": [
            "Digite o valor do aluguel10000\n",
            "Valor do aluguel 10000.00 Valor do aluguel reajustado = R$13100.00\n"
          ],
          "name": "stdout"
        }
      ]
    },
    {
      "cell_type": "markdown",
      "metadata": {
        "id": "lKTwnuNMl8rP"
      },
      "source": [
        "### Parte 2\n",
        "Agora, altere sua calculadora para receber além do `valor do aluguel`, o percentual do reajuste no formato `XX%`.  \n",
        "\n",
        "**Dica:** Descubra uma forma de transformar o percentual recebido em um número para efetuar o cálculo.\n",
        "\n",
        "**Exemplo:**\n",
        "```\n",
        "Valor do aluguel = 1000\n",
        "Percentual do reajuste = 31%\n",
        "Valor do aluguel reajustado = R% 1310,00\n",
        "```"
      ]
    },
    {
      "cell_type": "code",
      "metadata": {
        "colab": {
          "base_uri": "https://localhost:8080/"
        },
        "id": "h20yPTGzrB3r",
        "outputId": "2ef81389-edc9-4782-ef32-b763038719bb"
      },
      "source": [
        "aluguel= float(input('Digite o valor do aluguel '))\n",
        "igpm= (input('Digite o reajuste (XX%)'))\n",
        "valor_corrigido= igpm.replace(\"%\",\"\")\n",
        "print(valor_corrigido)\n",
        "\n",
        "igpm= float(valor_corrigido)/100\n",
        "aluguel_atualizado= (aluguel*igpm)+aluguel\n",
        "print(f'Valor do aluguel {aluguel:.2f} Valor do aluguel reajustado = R${aluguel_atualizado:.2f}')"
      ],
      "execution_count": 6,
      "outputs": [
        {
          "output_type": "stream",
          "text": [
            "Digite o valor do aluguel 1000\n",
            "Digite o reajuste 50%\n",
            "50\n",
            "Valor do aluguel 1000.00 Valor do aluguel reajustado = R$1500.00\n"
          ],
          "name": "stdout"
        }
      ]
    },
    {
      "cell_type": "code",
      "metadata": {
        "id": "COAPn0JCutXg"
      },
      "source": [
        ""
      ],
      "execution_count": null,
      "outputs": []
    }
  ]
}